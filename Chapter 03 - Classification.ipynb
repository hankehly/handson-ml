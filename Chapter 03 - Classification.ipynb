{
 "cells": [
  {
   "cell_type": "markdown",
   "metadata": {},
   "source": [
    "### Lingering questions\n",
    "- confusion matrix intuition\n",
    "- meaning of precision / recall performance measures\n",
    "  - **Precision**: out of all positive predictions, how many were accurate\n",
    "      - you can pretty much create a classifier with any precision you want. just set the threshold high enough. but your recall will suffer.\n",
    "      - True positives / (True positives + false positives)\n",
    "  - **Recall**: out of all instances that were supposed to be labeled positive, how many were?\n",
    "      - True positives / (True positives + false negatives)\n",
    "\n",
    "### Notes\n",
    "- OvO (One vs One) - training a binary classifier on every pair of digits\n",
    "- OvA (One vs All) - training a binary classifier on only 0s, only 1s, etc.. (like we did with 5s). So we train a 1 detector, 4 detector, etc.. then select the detector with the highest score for a given image as the prediction.\n",
    "\n",
    "Figure 3-3. Decision threshold and precision/recall tradeoff\n",
    "![Figure 3-3. Decision threshold and precision/recall tradeoff](images/3-3.png)"
   ]
  },
  {
   "cell_type": "code",
   "execution_count": 1,
   "metadata": {},
   "outputs": [],
   "source": [
    "import numpy as np\n",
    "import os\n",
    "import warnings\n",
    "\n",
    "np.random.seed(42)\n",
    "warnings.filterwarnings(action=\"ignore\", category=FutureWarning)\n",
    "\n",
    "%matplotlib inline\n",
    "import matplotlib\n",
    "import matplotlib.pyplot as plt"
   ]
  },
  {
   "cell_type": "code",
   "execution_count": 2,
   "metadata": {},
   "outputs": [
    {
     "name": "stderr",
     "output_type": "stream",
     "text": [
      "/Users/henryehly/src/handson-ml/venv/lib/python3.7/site-packages/sklearn/utils/deprecation.py:77: DeprecationWarning: Function fetch_mldata is deprecated; fetch_mldata was deprecated in version 0.20 and will be removed in version 0.22\n",
      "  warnings.warn(msg, category=DeprecationWarning)\n",
      "/Users/henryehly/src/handson-ml/venv/lib/python3.7/site-packages/sklearn/utils/deprecation.py:77: DeprecationWarning: Function mldata_filename is deprecated; mldata_filename was deprecated in version 0.20 and will be removed in version 0.22\n",
      "  warnings.warn(msg, category=DeprecationWarning)\n"
     ]
    },
    {
     "data": {
      "text/plain": [
       "{'DESCR': 'mldata.org dataset: mnist-original',\n",
       " 'COL_NAMES': ['label', 'data'],\n",
       " 'target': array([0., 0., 0., ..., 9., 9., 9.]),\n",
       " 'data': array([[0, 0, 0, ..., 0, 0, 0],\n",
       "        [0, 0, 0, ..., 0, 0, 0],\n",
       "        [0, 0, 0, ..., 0, 0, 0],\n",
       "        ...,\n",
       "        [0, 0, 0, ..., 0, 0, 0],\n",
       "        [0, 0, 0, ..., 0, 0, 0],\n",
       "        [0, 0, 0, ..., 0, 0, 0]], dtype=uint8)}"
      ]
     },
     "execution_count": 2,
     "metadata": {},
     "output_type": "execute_result"
    }
   ],
   "source": [
    "from sklearn.datasets import fetch_mldata\n",
    "mnist = fetch_mldata('MNIST original')\n",
    "mnist"
   ]
  },
  {
   "cell_type": "code",
   "execution_count": 3,
   "metadata": {},
   "outputs": [],
   "source": [
    "X, y = mnist['data'], mnist['target']"
   ]
  },
  {
   "cell_type": "code",
   "execution_count": 4,
   "metadata": {},
   "outputs": [
    {
     "data": {
      "text/plain": [
       "(70000, 784)"
      ]
     },
     "execution_count": 4,
     "metadata": {},
     "output_type": "execute_result"
    }
   ],
   "source": [
    "X.shape"
   ]
  },
  {
   "cell_type": "code",
   "execution_count": 5,
   "metadata": {},
   "outputs": [
    {
     "data": {
      "text/plain": [
       "(70000,)"
      ]
     },
     "execution_count": 5,
     "metadata": {},
     "output_type": "execute_result"
    }
   ],
   "source": [
    "y.shape"
   ]
  },
  {
   "cell_type": "code",
   "execution_count": 6,
   "metadata": {},
   "outputs": [
    {
     "data": {
      "image/png": "[encoded data removed]",
      "text/plain": [
       "<Figure size 432x288 with 1 Axes>"
      ]
     },
     "metadata": {
      "needs_background": "light"
     },
     "output_type": "display_data"
    }
   ],
   "source": [
    "sample_5 = X[36000]\n",
    "sample_5_image = np.reshape(sample_5, (28, 28))\n",
    "plt.imshow(sample_5_image, cmap=matplotlib.cm.binary)\n",
    "plt.axis('off')\n",
    "plt.show()"
   ]
  },
  {
   "cell_type": "code",
   "execution_count": 7,
   "metadata": {},
   "outputs": [
    {
     "data": {
      "text/plain": [
       "5.0"
      ]
     },
     "execution_count": 7,
     "metadata": {},
     "output_type": "execute_result"
    }
   ],
   "source": [
    "y[36000]"
   ]
  },
  {
   "cell_type": "code",
   "execution_count": 8,
   "metadata": {},
   "outputs": [],
   "source": [
    "# test and train sets alreaady split by sklearn\n",
    "X_train, X_test, y_train, y_test = X[:60000], X[60000:], y[:60000], y[60000:]\n",
    "\n",
    "# shuffle to make sure that when we do cross validation, each fold contains all the numbers\n",
    "# np.random.permutation takes an int (treated as a range from 0~) or a list and shuffles it\n",
    "shuffle_index = np.random.permutation(60000)\n",
    "X_train, y_train = X_train[shuffle_index], y_train[shuffle_index]"
   ]
  },
  {
   "cell_type": "markdown",
   "metadata": {},
   "source": [
    "# Training a Binary Classifier"
   ]
  },
  {
   "cell_type": "code",
   "execution_count": 10,
   "metadata": {},
   "outputs": [],
   "source": [
    "# trying to just identify a single digit for now\n",
    "y_train_5 = y_train == 5\n",
    "y_test_5 = y_test == 5"
   ]
  },
  {
   "cell_type": "code",
   "execution_count": 11,
   "metadata": {},
   "outputs": [
    {
     "data": {
      "text/plain": [
       "SGDClassifier(alpha=0.0001, average=False, class_weight=None,\n",
       "       early_stopping=False, epsilon=0.1, eta0=0.0, fit_intercept=True,\n",
       "       l1_ratio=0.15, learning_rate='optimal', loss='hinge', max_iter=None,\n",
       "       n_iter=None, n_iter_no_change=5, n_jobs=None, penalty='l2',\n",
       "       power_t=0.5, random_state=42, shuffle=True, tol=None,\n",
       "       validation_fraction=0.1, verbose=0, warm_start=False)"
      ]
     },
     "execution_count": 11,
     "metadata": {},
     "output_type": "execute_result"
    }
   ],
   "source": [
    "from sklearn.linear_model import SGDClassifier\n",
    "\n",
    "# 'stochastic' means 'random determined'\n",
    "sgd_clf = SGDClassifier(random_state=42)\n",
    "sgd_clf.fit(X_train, y_train_5)"
   ]
  },
  {
   "cell_type": "code",
   "execution_count": 12,
   "metadata": {},
   "outputs": [
    {
     "data": {
      "text/plain": [
       "array([ True])"
      ]
     },
     "execution_count": 12,
     "metadata": {},
     "output_type": "execute_result"
    }
   ],
   "source": [
    "sgd_clf.predict([sample_5])"
   ]
  },
  {
   "cell_type": "markdown",
   "metadata": {},
   "source": [
    "# Performance Measures"
   ]
  },
  {
   "cell_type": "code",
   "execution_count": 13,
   "metadata": {},
   "outputs": [
    {
     "data": {
      "text/plain": [
       "array([0.9502 , 0.96565, 0.96495])"
      ]
     },
     "execution_count": 13,
     "metadata": {},
     "output_type": "execute_result"
    }
   ],
   "source": [
    "# cross validation is one way to measure the accuracy of a model\n",
    "# K-fold CV does the following\n",
    "# 1. splits the training set into a given number (K) of folds\n",
    "# 2. trains a model on the training fold data, and makes predictions on the fold test data\n",
    "# 3. (?)evaluates those predictions on each fold using a model trained on the other folds\n",
    "from sklearn.model_selection import cross_val_score\n",
    "\n",
    "# the 'accuracy' scoring is the ratio of correct predictions\n",
    "cross_val_score(sgd_clf, X_train, y_train_5, cv=3, scoring='accuracy')"
   ]
  },
  {
   "cell_type": "code",
   "execution_count": 14,
   "metadata": {},
   "outputs": [],
   "source": [
    "from sklearn.base import BaseEstimator\n",
    "\n",
    "class Never5Classifier(BaseEstimator):\n",
    "    def fit(self, X, y=None):\n",
    "        pass\n",
    "    def predict(self, X):\n",
    "        return np.zeros((len(X), 1), dtype=bool)"
   ]
  },
  {
   "cell_type": "code",
   "execution_count": 15,
   "metadata": {},
   "outputs": [
    {
     "data": {
      "text/plain": [
       "array([0.909  , 0.90715, 0.9128 ])"
      ]
     },
     "execution_count": 15,
     "metadata": {},
     "output_type": "execute_result"
    }
   ],
   "source": [
    "# Because only 10% of the images are 5s, we can get 90% accuracy just by guessing 'not 5' every time.\n",
    "# Accuracy scoring is generally not the preferred way to measure classifier performance.\n",
    "never_5_clf = Never5Classifier()\n",
    "cross_val_score(never_5_clf, X_train, y_train_5, cv=3, scoring='accuracy')"
   ]
  },
  {
   "cell_type": "code",
   "execution_count": 16,
   "metadata": {},
   "outputs": [
    {
     "name": "stdout",
     "output_type": "stream",
     "text": [
      "0.9502\n",
      "0.96565\n",
      "0.96495\n"
     ]
    }
   ],
   "source": [
    "# Custom implementation of cross validation with accuracy scoring\n",
    "from sklearn.model_selection import StratifiedKFold\n",
    "from sklearn.base import clone\n",
    "\n",
    "skfolds = StratifiedKFold(n_splits=3, random_state=42)\n",
    "\n",
    "for train_index, test_index in skfolds.split(X_train, y_train_5):\n",
    "    clone_clf = clone(sgd_clf)\n",
    "    \n",
    "    X_train_folds = X_train[train_index]\n",
    "    y_train_folds = y_train_5[train_index]\n",
    "    \n",
    "    X_test_fold = X_train[test_index]\n",
    "    y_test_fold = y_train_5[test_index]\n",
    "    \n",
    "    clone_clf.fit(X=X_train_folds, y=y_train_folds)\n",
    "    y_pred = clone_clf.predict(X=X_test_fold)\n",
    "    \n",
    "    n_correct = sum(y_pred == y_test_fold)\n",
    "    print(n_correct / len(y_pred))"
   ]
  },
  {
   "cell_type": "markdown",
   "metadata": {},
   "source": [
    "# Confusion Matrix"
   ]
  },
  {
   "cell_type": "code",
   "execution_count": 17,
   "metadata": {},
   "outputs": [
    {
     "data": {
      "text/plain": [
       "array([False, False, False, ..., False, False, False])"
      ]
     },
     "execution_count": 17,
     "metadata": {},
     "output_type": "execute_result"
    }
   ],
   "source": [
    "# to compute the confusion matrix, you need a set of predictions to compare to the target values\n",
    "# cross_val_predict returns the predictions (not the scores) from the cross validation\n",
    "from sklearn.model_selection import cross_val_predict\n",
    "\n",
    "y_train_pred = cross_val_predict(sgd_clf, X_train, y_train_5, cv=3)\n",
    "y_train_pred"
   ]
  },
  {
   "cell_type": "code",
   "execution_count": 18,
   "metadata": {},
   "outputs": [
    {
     "data": {
      "text/plain": [
       "array([[53272,  1307],\n",
       "       [ 1077,  4344]])"
      ]
     },
     "execution_count": 18,
     "metadata": {},
     "output_type": "execute_result"
    }
   ],
   "source": [
    "from sklearn.metrics import confusion_matrix\n",
    "\n",
    "# a row represents an actual class\n",
    "# a column represents a predicted class\n",
    "# 1307 wrongly classified as 5s\n",
    "# 1077 wrongly classified as non-5s\n",
    "confusion_matrix(y_train_5, y_train_pred)"
   ]
  },
  {
   "cell_type": "code",
   "execution_count": 19,
   "metadata": {},
   "outputs": [
    {
     "data": {
      "text/plain": [
       "array([[54579,     0],\n",
       "       [    0,  5421]])"
      ]
     },
     "execution_count": 19,
     "metadata": {},
     "output_type": "execute_result"
    }
   ],
   "source": [
    "y_train_perfect_predictions = y_train_5\n",
    "\n",
    "confusion_matrix(y_train_5, y_train_perfect_predictions)"
   ]
  },
  {
   "cell_type": "markdown",
   "metadata": {},
   "source": [
    "## Precision and Recall"
   ]
  },
  {
   "cell_type": "code",
   "execution_count": 20,
   "metadata": {},
   "outputs": [
    {
     "name": "stdout",
     "output_type": "stream",
     "text": [
      "0.7687135020350381\n",
      "0.801328168234643\n"
     ]
    }
   ],
   "source": [
    "# another metric is the accuracy of the positive predictions (call the \"precision classifier\")\n",
    "# it is used alongside \"recall\" which is the ratio of positive instances that are correctly detected by the classifier\n",
    "from sklearn.metrics import precision_score, recall_score\n",
    "\n",
    "precision = precision_score(y_train_5, y_train_pred)\n",
    "recall = recall_score(y_train_5, y_train_pred)\n",
    "\n",
    "print(precision) # 4344 / (4344 + 1307)\n",
    "print(recall)    # 4344 / (4344 + 1077)"
   ]
  },
  {
   "cell_type": "markdown",
   "metadata": {},
   "source": [
    "The harmonic mean of precision and recall gives you the F1 score, which is commonly used to combine precision and recall.\n",
    "\n",
    "$\n",
    "F_1=\\dfrac{2}{ \\dfrac{1}{precision} + \\dfrac{1}{recall} }\n",
    "$"
   ]
  },
  {
   "cell_type": "code",
   "execution_count": 21,
   "metadata": {},
   "outputs": [
    {
     "name": "stdout",
     "output_type": "stream",
     "text": [
      "0.7846820809248555\n",
      "0.7846820809248555\n"
     ]
    }
   ],
   "source": [
    "from sklearn.metrics import f1_score\n",
    "\n",
    "# computing f1_score with sklearn\n",
    "print(f1_score(y_train_5, y_train_pred))\n",
    "\n",
    "# is the same as the following\n",
    "print(2 * (precision * recall) / (precision + recall))"
   ]
  },
  {
   "cell_type": "code",
   "execution_count": 22,
   "metadata": {},
   "outputs": [
    {
     "data": {
      "text/plain": [
       "array([161855.74572176])"
      ]
     },
     "execution_count": 22,
     "metadata": {},
     "output_type": "execute_result"
    }
   ],
   "source": [
    "# try adjusting the threshold ourselves\n",
    "# decision_function returns a score for each instance\n",
    "# and lets us make a prediction with any threshold we want\n",
    "# based on that score\n",
    "y_scores = sgd_clf.decision_function([sample_5])\n",
    "y_scores"
   ]
  },
  {
   "cell_type": "code",
   "execution_count": 23,
   "metadata": {},
   "outputs": [
    {
     "data": {
      "text/plain": [
       "array([ True])"
      ]
     },
     "execution_count": 23,
     "metadata": {},
     "output_type": "execute_result"
    }
   ],
   "source": [
    "threshold = 0\n",
    "y_sample_5_pred = (y_scores > threshold)\n",
    "y_sample_5_pred"
   ]
  },
  {
   "cell_type": "code",
   "execution_count": 24,
   "metadata": {},
   "outputs": [
    {
     "data": {
      "text/plain": [
       "array([False])"
      ]
     },
     "execution_count": 24,
     "metadata": {},
     "output_type": "execute_result"
    }
   ],
   "source": [
    "# raising the threshold decreases recall\n",
    "# when the threshold was lower, the 5 was predicted correctly\n",
    "# but when we raised the threshold, the 5 was missed\n",
    "threshold = 200000\n",
    "y_sample_5_pred = (y_scores > threshold)\n",
    "y_sample_5_pred"
   ]
  },
  {
   "cell_type": "code",
   "execution_count": 25,
   "metadata": {},
   "outputs": [
    {
     "data": {
      "text/plain": [
       "array([ -434076.49813641, -1825667.15281624,  -767086.76186905, ...,\n",
       "        -867191.25267994,  -565357.11420164,  -366599.16018198])"
      ]
     },
     "execution_count": 25,
     "metadata": {},
     "output_type": "execute_result"
    }
   ],
   "source": [
    "# here is how we can get all the decision function scores\n",
    "y_scores = cross_val_predict(sgd_clf, X_train, y_train_5, cv=3, method='decision_function')\n",
    "y_scores"
   ]
  },
  {
   "cell_type": "code",
   "execution_count": 26,
   "metadata": {},
   "outputs": [],
   "source": [
    "from sklearn.metrics import precision_recall_curve\n",
    "\n",
    "# this will give us what we need to visualize the \n",
    "# relationship between precision, recall & threshold\n",
    "precisions, recalls, thresholds = precision_recall_curve(y_train_5, y_scores)"
   ]
  },
  {
   "cell_type": "code",
   "execution_count": 27,
   "metadata": {},
   "outputs": [
    {
     "data": {
      "image/png": "[encoded data removed]",
      "text/plain": [
       "<Figure size 576x288 with 1 Axes>"
      ]
     },
     "metadata": {
      "needs_background": "light"
     },
     "output_type": "display_data"
    }
   ],
   "source": [
    "def plot_precision_recall_vs_threshold(precisions, recalls, thresholds):\n",
    "    plt.plot(thresholds, precisions[:-1], 'b--', label='Precision')\n",
    "    plt.plot(thresholds, recalls[:-1], 'g-', label='Recall')\n",
    "    plt.xlabel('Threshold')\n",
    "    plt.legend(loc='upper left')\n",
    "    plt.ylim([0, 1])\n",
    "\n",
    "plt.figure(figsize=(8, 4))\n",
    "plt.xlim([-700000, 700000])\n",
    "plot_precision_recall_vs_threshold(precisions, recalls, thresholds)\n",
    "plt.show()"
   ]
  },
  {
   "cell_type": "code",
   "execution_count": 28,
   "metadata": {},
   "outputs": [],
   "source": [
    "# let's say we want to aim for 90% precision\n",
    "# if you look at the graph above, it looks like we should set our threshold\n",
    "# at around 70,000\n",
    "y_train_pred_90 = (y_scores > 70000)"
   ]
  },
  {
   "cell_type": "code",
   "execution_count": 29,
   "metadata": {},
   "outputs": [
    {
     "data": {
      "text/plain": [
       "0.8659205116491548"
      ]
     },
     "execution_count": 29,
     "metadata": {},
     "output_type": "execute_result"
    }
   ],
   "source": [
    "precision_score(y_true=y_train_5, y_pred=y_train_pred_90)"
   ]
  },
  {
   "cell_type": "code",
   "execution_count": 30,
   "metadata": {},
   "outputs": [
    {
     "data": {
      "text/plain": [
       "0.6993174691016417"
      ]
     },
     "execution_count": 30,
     "metadata": {},
     "output_type": "execute_result"
    }
   ],
   "source": [
    "recall_score(y_true=y_train_5, y_pred=y_train_pred_90)"
   ]
  },
  {
   "cell_type": "code",
   "execution_count": 31,
   "metadata": {},
   "outputs": [
    {
     "data": {
      "image/png": "[encoded data removed]",
      "text/plain": [
       "<Figure size 576x432 with 1 Axes>"
      ]
     },
     "metadata": {
      "needs_background": "light"
     },
     "output_type": "display_data"
    }
   ],
   "source": [
    "def plot_precision_vs_recall(precisions, recalls):\n",
    "    plt.plot(recalls, precisions, 'b-', linewidth=2)\n",
    "    plt.xlabel('Recall', fontsize=16)\n",
    "    plt.ylabel('Precision', fontsize=16)\n",
    "    plt.axis([0, 1, 0, 1])\n",
    "\n",
    "plt.figure(figsize=(8, 6))\n",
    "plot_precision_vs_recall(precisions, recalls)\n",
    "plt.show()"
   ]
  },
  {
   "cell_type": "markdown",
   "metadata": {},
   "source": [
    "# The ROC Curve"
   ]
  },
  {
   "cell_type": "code",
   "execution_count": 32,
   "metadata": {},
   "outputs": [
    {
     "data": {
      "text/plain": [
       "(array([0.        , 0.        , 0.        , ..., 0.99446674, 0.99446674,\n",
       "        1.        ]),\n",
       " array([0.00000000e+00, 1.84467810e-04, 3.87382402e-03, ...,\n",
       "        9.99815532e-01, 1.00000000e+00, 1.00000000e+00]),\n",
       " array([ 1002863.09359785,  1002862.09359785,   788024.40783823, ...,\n",
       "        -1612415.64410228, -1613405.71147769, -2922518.84137436]))"
      ]
     },
     "execution_count": 32,
     "metadata": {},
     "output_type": "execute_result"
    }
   ],
   "source": [
    "# receiver operating characteristic (ROC) curve is common tool used with binary classifiers\n",
    "# it plots the 'true positive rate' (recall) against the 'false positive rate'\n",
    "# FPR = negative instances that are incorrectly classified as positive (equal to 1 - TNR)\n",
    "# TNR (also called 'specificity') = ratio of negative instances correctly classified as negative\n",
    "# so, ROC plots 'sensitivity (ie Recall)' versus (1 - specificity)\n",
    "from sklearn.metrics import roc_curve\n",
    "\n",
    "fpr, tpr, thresholds = roc_curve(y_train_5, y_scores)\n",
    "fpr, tpr, thresholds"
   ]
  },
  {
   "cell_type": "code",
   "execution_count": 33,
   "metadata": {},
   "outputs": [
    {
     "data": {
      "image/png": "[encoded data removed]",
      "text/plain": [
       "<Figure size 432x288 with 1 Axes>"
      ]
     },
     "metadata": {
      "needs_background": "light"
     },
     "output_type": "display_data"
    }
   ],
   "source": [
    "# you should use PR curve when the positive class is rare, \n",
    "# or you care more about the false positives than the false negatives;\n",
    "# otherwise, use the ROC curve\n",
    "def plot_roc_curve(fpr, tpr, label=None):\n",
    "    plt.plot(fpr, tpr, linewidth=2, label=label)\n",
    "    # this line shows what an ROC curve of a completely random ROC classifier would produce\n",
    "    # good classifiers stay as far away from this line as possible (to the top left)\n",
    "    plt.plot([0, 1], [0, 1], 'k--')\n",
    "    plt.axis([0, 1, 0, 1])\n",
    "    plt.xlabel('False Positive Rate')\n",
    "    plt.ylabel('True Positive Rate (Recall)')\n",
    "\n",
    "plot_roc_curve(fpr, tpr)\n",
    "plt.show()"
   ]
  },
  {
   "cell_type": "code",
   "execution_count": 34,
   "metadata": {},
   "outputs": [
    {
     "data": {
      "text/plain": [
       "0.9624496555967156"
      ]
     },
     "execution_count": 34,
     "metadata": {},
     "output_type": "execute_result"
    }
   ],
   "source": [
    "# AUC stands for 'area under the curve'\n",
    "# a perfect classifier score would be 1\n",
    "# a purely random classifier score would be 0.5\n",
    "from sklearn.metrics import roc_auc_score\n",
    "\n",
    "roc_auc_score(y_train_5, y_scores)"
   ]
  },
  {
   "cell_type": "code",
   "execution_count": 35,
   "metadata": {},
   "outputs": [],
   "source": [
    "from sklearn.ensemble import RandomForestClassifier\n",
    "\n",
    "forest_clf = RandomForestClassifier(random_state=42)\n",
    "\n",
    "# RandomForestClassifier doesn't have 'decision_function';\n",
    "# instead it uses 'predict_proba' which returns the probability\n",
    "# that an instance belongs to the given class\n",
    "y_probas_forest = cross_val_predict(forest_clf, X_train, y_train_5, cv=3,\n",
    "                                    method='predict_proba')"
   ]
  },
  {
   "cell_type": "code",
   "execution_count": 36,
   "metadata": {},
   "outputs": [
    {
     "data": {
      "text/plain": [
       "array([[1. , 0. ],\n",
       "       [0.9, 0.1],\n",
       "       [1. , 0. ],\n",
       "       ...,\n",
       "       [1. , 0. ],\n",
       "       [1. , 0. ],\n",
       "       [1. , 0. ]])"
      ]
     },
     "execution_count": 36,
     "metadata": {},
     "output_type": "execute_result"
    }
   ],
   "source": [
    "y_probas_forest"
   ]
  },
  {
   "cell_type": "code",
   "execution_count": 37,
   "metadata": {},
   "outputs": [
    {
     "data": {
      "text/plain": [
       "array([0. , 0.1, 0. , ..., 0. , 0. , 0. ])"
      ]
     },
     "execution_count": 37,
     "metadata": {},
     "output_type": "execute_result"
    }
   ],
   "source": [
    "# probability of the positive class \n",
    "# (because we need the scores to plot ROC)\n",
    "y_scores_forest = y_probas_forest[:, 1]\n",
    "y_scores_forest"
   ]
  },
  {
   "cell_type": "code",
   "execution_count": 38,
   "metadata": {},
   "outputs": [
    {
     "data": {
      "text/plain": [
       "(array([0.00000000e+00, 0.00000000e+00, 3.66441305e-05, 2.01542718e-04,\n",
       "        5.49661958e-04, 1.22757837e-03, 3.05978490e-03, 6.77916415e-03,\n",
       "        1.67463677e-02, 4.42294655e-02, 1.63066381e-01, 1.00000000e+00]),\n",
       " array([0.        , 0.2802066 , 0.49345139, 0.64655968, 0.75428888,\n",
       "        0.82826047, 0.882494  , 0.92510607, 0.95609666, 0.97767939,\n",
       "        0.99354363, 1.        ]),\n",
       " array([2. , 1. , 0.9, 0.8, 0.7, 0.6, 0.5, 0.4, 0.3, 0.2, 0.1, 0. ]))"
      ]
     },
     "execution_count": 38,
     "metadata": {},
     "output_type": "execute_result"
    }
   ],
   "source": [
    "fpr_forest, tpr_forest, thresholds_forest = roc_curve(y_train_5, y_scores_forest)\n",
    "fpr_forest, tpr_forest, thresholds_forest"
   ]
  },
  {
   "cell_type": "code",
   "execution_count": 39,
   "metadata": {
    "scrolled": false
   },
   "outputs": [
    {
     "data": {
      "image/png": "[encoded data removed]",
      "text/plain": [
       "<Figure size 576x432 with 1 Axes>"
      ]
     },
     "metadata": {
      "needs_background": "light"
     },
     "output_type": "display_data"
    }
   ],
   "source": [
    "plt.figure(figsize=(8, 6))\n",
    "plt.plot(fpr, tpr, 'b:', linewidth=2, label='SGD')\n",
    "plot_roc_curve(fpr_forest, tpr_forest, 'Random Forest')\n",
    "plt.legend(loc='lower right', fontsize=16)\n",
    "plt.show()"
   ]
  },
  {
   "cell_type": "code",
   "execution_count": 40,
   "metadata": {},
   "outputs": [
    {
     "data": {
      "text/plain": [
       "0.9931243366003829"
      ]
     },
     "execution_count": 40,
     "metadata": {},
     "output_type": "execute_result"
    }
   ],
   "source": [
    "roc_auc_score(y_train_5, y_scores_forest)"
   ]
  },
  {
   "cell_type": "markdown",
   "metadata": {},
   "source": [
    "As you can see, the Random Forest curve looks better than the SGD curve. It's a lot closer to the top left corner. The ROC AUC score is also better."
   ]
  },
  {
   "cell_type": "code",
   "execution_count": 41,
   "metadata": {},
   "outputs": [
    {
     "data": {
      "text/plain": [
       "array([False, False, False, ..., False, False, False])"
      ]
     },
     "execution_count": 41,
     "metadata": {},
     "output_type": "execute_result"
    }
   ],
   "source": [
    "y_train_pred_forest = cross_val_predict(forest_clf, X_train, y_train_5, cv=3)\n",
    "y_train_pred_forest"
   ]
  },
  {
   "cell_type": "code",
   "execution_count": 42,
   "metadata": {
    "scrolled": true
   },
   "outputs": [
    {
     "data": {
      "text/plain": [
       "(0.9852973447443494, 0.8282604685482383)"
      ]
     },
     "execution_count": 42,
     "metadata": {},
     "output_type": "execute_result"
    }
   ],
   "source": [
    "precision = precision_score(y_train_5, y_train_pred_forest)\n",
    "recall = recall_score(y_train_5, y_train_pred_forest)\n",
    "precision, recall"
   ]
  },
  {
   "cell_type": "markdown",
   "metadata": {},
   "source": [
    "# Multiclass Classification"
   ]
  },
  {
   "cell_type": "code",
   "execution_count": 43,
   "metadata": {},
   "outputs": [
    {
     "data": {
      "text/plain": [
       "array([5.])"
      ]
     },
     "execution_count": 43,
     "metadata": {},
     "output_type": "execute_result"
    }
   ],
   "source": [
    "sgd_clf.fit(X_train, y_train) # using y_train (not y_train_5)\n",
    "sgd_clf.predict([sample_5])"
   ]
  },
  {
   "cell_type": "code",
   "execution_count": 44,
   "metadata": {},
   "outputs": [
    {
     "data": {
      "text/plain": [
       "array([[-311402.62954431, -363517.28355739, -446449.5306454 ,\n",
       "        -183226.61023518, -414337.15339485,  161855.74572176,\n",
       "        -452576.39616343, -471957.14962573, -518542.33997148,\n",
       "        -536774.63961222]])"
      ]
     },
     "execution_count": 44,
     "metadata": {},
     "output_type": "execute_result"
    }
   ],
   "source": [
    "# Under the hood, scikit-learn actually did OvA and trained 10 binary\n",
    "# classifiers and selected the one with the highest score for the image.\n",
    "# You can see the scores here! (Look at index 5!)\n",
    "sample_5_scores = sgd_clf.decision_function([sample_5])\n",
    "sample_5_scores"
   ]
  },
  {
   "cell_type": "code",
   "execution_count": 45,
   "metadata": {},
   "outputs": [
    {
     "data": {
      "text/plain": [
       "5"
      ]
     },
     "execution_count": 45,
     "metadata": {},
     "output_type": "execute_result"
    }
   ],
   "source": [
    "np.argmax(sample_5_scores)"
   ]
  },
  {
   "cell_type": "code",
   "execution_count": 46,
   "metadata": {},
   "outputs": [
    {
     "data": {
      "text/plain": [
       "array([0., 1., 2., 3., 4., 5., 6., 7., 8., 9.])"
      ]
     },
     "execution_count": 46,
     "metadata": {},
     "output_type": "execute_result"
    }
   ],
   "source": [
    "sgd_clf.classes_"
   ]
  },
  {
   "cell_type": "code",
   "execution_count": 47,
   "metadata": {},
   "outputs": [
    {
     "data": {
      "text/plain": [
       "5.0"
      ]
     },
     "execution_count": 47,
     "metadata": {},
     "output_type": "execute_result"
    }
   ],
   "source": [
    "sgd_clf.classes_[5]"
   ]
  },
  {
   "cell_type": "code",
   "execution_count": 48,
   "metadata": {},
   "outputs": [
    {
     "data": {
      "text/plain": [
       "array([5.])"
      ]
     },
     "execution_count": 48,
     "metadata": {},
     "output_type": "execute_result"
    }
   ],
   "source": [
    "forest_clf.fit(X_train, y_train)\n",
    "forest_clf.predict([sample_5])"
   ]
  },
  {
   "cell_type": "code",
   "execution_count": 49,
   "metadata": {},
   "outputs": [
    {
     "data": {
      "text/plain": [
       "array([[0.1, 0. , 0. , 0.1, 0. , 0.8, 0. , 0. , 0. , 0. ]])"
      ]
     },
     "execution_count": 49,
     "metadata": {},
     "output_type": "execute_result"
    }
   ],
   "source": [
    "# Random forest does not use OvA or OvO because it classifiest directly\n",
    "# into multiple classes. You can see the probabilities assigned for each\n",
    "# class for a given instance.\n",
    "# Notice how the probability at index 5 is the highest\n",
    "# the random forest classifier model estimates an 80% probability its' a 5\n",
    "forest_clf.predict_proba([sample_5])"
   ]
  },
  {
   "cell_type": "code",
   "execution_count": 50,
   "metadata": {},
   "outputs": [
    {
     "data": {
      "text/plain": [
       "array([0.84063187, 0.84899245, 0.86652998])"
      ]
     },
     "execution_count": 50,
     "metadata": {},
     "output_type": "execute_result"
    }
   ],
   "source": [
    "cross_val_score(sgd_clf, X_train, y_train, cv=3, scoring='accuracy')"
   ]
  },
  {
   "cell_type": "code",
   "execution_count": 51,
   "metadata": {},
   "outputs": [
    {
     "data": {
      "text/plain": [
       "(array([  0,   0,   0,   0,   0,   0,   0,   0,   0,   0,   0,   0,   0,\n",
       "          0,   0,   0,   0,   0,   0,   0,   0,   0,   0,   0,   0,   0,\n",
       "          0,   0,   0,   0,   0,   0,   0,   0,   0,   0,   0,   0,   0,\n",
       "          0,   0,   0,   0,   0,   0,   0,   0,   0,   0,   0,   0,   0,\n",
       "          0,   0,   0,   0,   0,   0,   0,   0,   0,   0,   0,   0,   0,\n",
       "          0,   0,   0,   0,   0,   0,   0,   0,   0,   0,   0,   0,   0,\n",
       "          0,   0,   0,   0,   0,   0,   0,   0,   0,   0,   0,   0,   0,\n",
       "          0,   0,   0,   0,   0,   0,   0,   0,   0,   0,   0,   0,   0,\n",
       "          0,   0,   0,   0,   0,   0,   0,   0,   0,   0,   0,   0,   0,\n",
       "          0,   0,   0,   0,   0,   0,   0,   0,   0,   0,   0, 189, 253,\n",
       "         60,   0,   0,   0,   0,   0,   0,   0,   0,   0,   0,   0,   0,\n",
       "          0,   0,   0,   0,   0,   0,   0,   0,   0,   0,   0,   0,   0,\n",
       "        232, 252, 226,   0,   0,   0,   0,   0,   0,   0,   0,   0,   0,\n",
       "          0,   0,   0,   0,   0,   0,   0,   0,   0,   0,   0,   0,   0,\n",
       "          0,  43, 242, 252, 199,   0,   0,   0,   0,   0,   0,   0,   0,\n",
       "          0,   0,   0,   0,   0,   0,   0,   0,   0,   0,   0,   0,   0,\n",
       "          0,   0,   0, 112, 252, 252,  77,   0,   0,   0,   0,   0,   0,\n",
       "          0,   0,   0,   0,   0,   0,   0,   0,   0,   0,   0,   0,   0,\n",
       "          0,   0,   0,   0,   0, 190, 252, 252,  86,   0,   0,   0,   0,\n",
       "          0,   0,   0,   0,   0,   0,   0,   0,   0,   0,   0,   0,   0,\n",
       "          0,   0,   0,   0,   0,   0,   8, 201, 253, 253,  42,   0,   0,\n",
       "          0,   0,   0,   0,   0,   0,   0,   0,   0,   0,   0,   0,   0,\n",
       "          0,   0,   0,   0,   0,   0,   0,   0,  43, 252, 252, 205,  11,\n",
       "          0,   0,   0,   0,   0,   0,   0,   0,   0,   0,   0,   0,   0,\n",
       "          0,   0,   0,   0,   0,   0,   0,   0,   0,   0,  43, 252, 252,\n",
       "        189,   0,   0,   0,   0,   0,   0,   0,   0,   0,   0,   0,   0,\n",
       "          0,   0,   0,   0,   0,   0,   0,   0,   0,   0,   0,   0, 139,\n",
       "        252, 252, 162,   0,   0,   0,   0,   0,   0,   0,   0,   0,   0,\n",
       "          0,   0,   0,   0,   0,   0,   0,   0,   0,   0,   0,   0,   0,\n",
       "         45, 253, 252, 235,  14,   0,   0,   0,   0,   0,   0,   0,   0,\n",
       "          0,   0,   0,   0,   0,   0,   0,   0,   0,   0,   0,   0,   0,\n",
       "          0,   0, 168, 255, 253, 127,   0,   0,   0,   0,   0,   0,   0,\n",
       "          0,   0,   0,   0,   0,   0,   0,   0,   0,   0,   0,   0,   0,\n",
       "          0,   0,   0,  48, 242, 253, 252,  91,   0,   0,   0,   0,   0,\n",
       "          0,   0,   0,   0,   0,   0,   0,   0,   0,   0,   0,   0,   0,\n",
       "          0,   0,   0,   0,   0, 160, 252, 253, 166,   2,   0,   0,   0,\n",
       "          0,   0,   0,   0,   0,   0,   0,   0,   0,   0,   0,   0,   0,\n",
       "          0,   0,   0,   0,   0,   0,  41, 225, 252, 253,  63,   0,   0,\n",
       "          0,   0,   0,   0,   0,   0,   0,   0,   0,   0,   0,   0,   0,\n",
       "          0,   0,   0,   0,   0,   0,   0,   0, 127, 252, 252, 218,  11,\n",
       "          0,   0,   0,   0,   0,   0,   0,   0,   0,   0,   0,   0,   0,\n",
       "          0,   0,   0,   0,   0,   0,   0,   0,   0,  68, 245, 253, 253,\n",
       "         45,   0,   0,   0,   0,   0,   0,   0,   0,   0,   0,   0,   0,\n",
       "          0,   0,   0,   0,   0,   0,   0,   0,   0,   0, 191, 237, 252,\n",
       "        252, 217,   0,   0,   0,   0,   0,   0,   0,   0,   0,   0,   0,\n",
       "          0,   0,   0,   0,   0,   0,   0,   0,   0,   0,   0,   0, 253,\n",
       "        252, 252, 252,  50,   0,   0,   0,   0,   0,   0,   0,   0,   0,\n",
       "          0,   0,   0,   0,   0,   0,   0,   0,   0,   0,   0,   0,   0,\n",
       "          0, 183, 252, 252, 210,  14,   0,   0,   0,   0,   0,   0,   0,\n",
       "          0,   0,   0,   0,   0,   0,   0,   0,   0,   0,   0,   0,   0,\n",
       "          0,   0,   0,  25, 121, 244, 145,   0,   0,   0,   0,   0,   0,\n",
       "          0,   0,   0,   0,   0,   0,   0,   0,   0,   0,   0,   0,   0,\n",
       "          0,   0,   0,   0,   0,   0,   0,   0,   0,   0,   0,   0,   0,\n",
       "          0,   0,   0,   0,   0,   0,   0,   0,   0,   0,   0,   0,   0,\n",
       "          0,   0,   0,   0,   0,   0,   0,   0,   0,   0,   0,   0,   0,\n",
       "          0,   0,   0,   0,   0,   0,   0,   0,   0,   0,   0,   0,   0,\n",
       "          0,   0,   0,   0,   0,   0,   0,   0,   0,   0,   0,   0,   0,\n",
       "          0,   0,   0,   0,   0,   0,   0,   0,   0,   0,   0,   0,   0,\n",
       "          0,   0,   0,   0,   0,   0,   0,   0,   0,   0,   0,   0,   0,\n",
       "          0,   0,   0,   0,   0,   0,   0,   0,   0,   0,   0,   0,   0,\n",
       "          0,   0,   0,   0], dtype=uint8),\n",
       " array([ 0.        ,  0.        ,  0.        ,  0.        ,  0.        ,\n",
       "         0.        ,  0.        ,  0.        ,  0.        ,  0.        ,\n",
       "         0.        ,  0.        , -0.00441808, -0.00575482, -0.00408252,\n",
       "        -0.00408252,  0.        ,  0.        ,  0.        ,  0.        ,\n",
       "         0.        ,  0.        ,  0.        ,  0.        ,  0.        ,\n",
       "         0.        ,  0.        ,  0.        ,  0.        ,  0.        ,\n",
       "         0.        ,  0.        , -0.00408252, -0.00470969, -0.00879935,\n",
       "        -0.01159056, -0.01475898, -0.01928485, -0.0246718 , -0.02907103,\n",
       "        -0.03059266, -0.03116401, -0.03196287, -0.03020254, -0.03131022,\n",
       "        -0.0283834 , -0.02311919, -0.01916663, -0.0167723 , -0.01099636,\n",
       "        -0.00832486, -0.00438069,  0.        ,  0.        ,  0.        ,\n",
       "         0.        ,  0.        ,  0.        , -0.00408252, -0.00539535,\n",
       "        -0.00852241, -0.01198504, -0.01765348, -0.0277109 , -0.03702009,\n",
       "        -0.05215128, -0.0670362 , -0.08301705, -0.0993793 , -0.11518413,\n",
       "        -0.12913326, -0.13839468, -0.13888363, -0.13184344, -0.12042952,\n",
       "        -0.10189079, -0.0786049 , -0.05699561, -0.03965768, -0.02372839,\n",
       "        -0.01408835, -0.00783084,  0.        ,  0.        ,  0.        ,\n",
       "         0.        , -0.00536838, -0.00887061, -0.01407082, -0.02214681,\n",
       "        -0.03518014, -0.05502368, -0.07909613, -0.10764901, -0.13716994,\n",
       "        -0.16710576, -0.19600876, -0.22449111, -0.24865599, -0.26211797,\n",
       "        -0.2625969 , -0.2478559 , -0.221947  , -0.1872114 , -0.14764013,\n",
       "        -0.10816436, -0.07681211, -0.0470753 , -0.03020197, -0.01524124,\n",
       "        -0.00528372,  0.        ,  0.        , -0.00408252, -0.00776342,\n",
       "        -0.01489325, -0.02396275, -0.0503409 , -0.07876747, -0.11618154,\n",
       "        -0.16124756, -0.21196164, -0.26689873, -0.32567801, -0.39024155,\n",
       "        -0.45207638, -0.49939798, -0.52342832,  1.68879845,  2.62752387,\n",
       "         0.38720523, -0.35674039, -0.28368365, -0.21683666, -0.15852438,\n",
       "        -0.10878458, -0.07092253, -0.03895348, -0.01425239, -0.0057705 ,\n",
       "         0.        ,  0.        , -0.01190174, -0.02205016, -0.05183807,\n",
       "        -0.0906597 , -0.13966711, -0.19708212, -0.26438473, -0.34073044,\n",
       "        -0.42253575, -0.51540865, -0.61603533, -0.7159833 , -0.79412047,\n",
       "        -0.83504925,  1.32609141,  1.6346726 ,  1.61788109, -0.5562504 ,\n",
       "        -0.44764565, -0.34762461, -0.26084091, -0.19030605, -0.13108013,\n",
       "        -0.07484604, -0.03193013, -0.00820892,  0.        , -0.00557015,\n",
       "        -0.01566193, -0.03636566, -0.07902431, -0.13328909, -0.19915441,\n",
       "        -0.27542969, -0.36333595, -0.46308053, -0.57484519, -0.69880387,\n",
       "        -0.82877368, -0.95689205, -1.05647264, -0.72193349,  1.07084264,\n",
       "         1.24802082,  0.93649146, -0.72455973, -0.5806059 , -0.45215876,\n",
       "        -0.33932343, -0.24893037, -0.1729397 , -0.10410424, -0.04831762,\n",
       "        -0.01470802, -0.00408252, -0.01323101, -0.02624382, -0.05915859,\n",
       "        -0.11300485, -0.17844153, -0.25800481, -0.35091181, -0.45909822,\n",
       "        -0.58414556, -0.72495421, -0.87563927, -1.0148029 , -1.13216857,\n",
       "        -1.20218834, -0.21248047,  1.07653979,  1.13236596, -0.32930802,\n",
       "        -0.86295358, -0.69048024, -0.53290132, -0.39754744, -0.28768128,\n",
       "        -0.19700703, -0.12122894, -0.05680861, -0.01539067, -0.00502549,\n",
       "        -0.01732052, -0.04308054, -0.0852489 , -0.13945837, -0.21088331,\n",
       "        -0.30001798, -0.40728153, -0.53288848, -0.68062943, -0.8419885 ,\n",
       "        -0.98243825, -1.07494102, -1.10798073, -1.10659099,  0.610637  ,\n",
       "         1.16706785,  1.16966782, -0.27168162, -0.9129785 , -0.73919131,\n",
       "        -0.5710055 , -0.423671  , -0.29819621, -0.19768614, -0.12068382,\n",
       "        -0.05393563, -0.01350554, -0.00590571, -0.02110967, -0.05298904,\n",
       "        -0.09307849, -0.15039873, -0.22619102, -0.32364534, -0.44213122,\n",
       "        -0.58424748, -0.74857559, -0.90044933, -0.99238771, -0.99508845,\n",
       "        -0.9495566 , -0.83549279,  0.93437994,  1.35981076,  1.28566133,\n",
       "        -0.62156892, -0.90150861, -0.73668152, -0.56758942, -0.4201719 ,\n",
       "        -0.2901746 , -0.18148235, -0.10493977, -0.04721317, -0.01413087,\n",
       "        -0.00577281, -0.02263228, -0.05280317, -0.09220581, -0.1474517 ,\n",
       "        -0.22728459, -0.33242832, -0.46269616, -0.61903352, -0.78428269,\n",
       "        -0.90820988, -0.93137298, -0.86957693, -0.79705953, -0.35376495,\n",
       "         1.59214654,  1.47224187,  0.91644687, -0.86255143, -0.86347326,\n",
       "        -0.70132425, -0.53739656, -0.39677103, -0.27122264, -0.15932446,\n",
       "        -0.08125841, -0.03695087, -0.0118734 , -0.00705517, -0.02077118,\n",
       "        -0.04720356, -0.08200384, -0.13745728, -0.22518196, -0.33849238,\n",
       "        -0.482935  , -0.64828822, -0.80980531, -0.89646046, -0.87178559,\n",
       "        -0.7849761 , -0.73254174, -0.32252721,  1.56425996,  1.43311578,\n",
       "         0.74152895, -0.95554794, -0.8249029 , -0.65598784, -0.49936419,\n",
       "        -0.36957331, -0.25846441, -0.14969571, -0.06111136, -0.02801157,\n",
       "        -0.0091251 , -0.00530435, -0.0162384 , -0.03637861, -0.06858201,\n",
       "        -0.1273685 , -0.22614336, -0.35220291, -0.50758351, -0.67944964,\n",
       "        -0.82825105, -0.88883004, -0.84190091, -0.76653453, -0.77020475,\n",
       "         0.45600994,  1.35589797,  1.26511028,  0.39978865, -0.96567404,\n",
       "        -0.79447676, -0.61674936, -0.47007288, -0.35512441, -0.25540754,\n",
       "        -0.15382451, -0.05245428, -0.02150587, -0.00992198, -0.00408252,\n",
       "        -0.01093439, -0.0255448 , -0.05707308, -0.12466202, -0.23849817,\n",
       "        -0.3732589 , -0.53313607, -0.70209414, -0.83745005, -0.88007425,\n",
       "        -0.84101427, -0.81679096, -0.47800211,  1.24439293,  1.14714444,\n",
       "         0.95676634, -1.00402312, -0.97607041, -0.7751954 , -0.5944466 ,\n",
       "        -0.46091024, -0.35550055, -0.26354918, -0.16450369, -0.05951303,\n",
       "        -0.02336867, -0.00740432, -0.00408252, -0.00798835, -0.01829645,\n",
       "        -0.05133943, -0.1293464 , -0.25752139, -0.39501133, -0.55042172,\n",
       "        -0.70732309, -0.82604982, -0.86785315, -0.86074372, -0.90403568,\n",
       "         0.47134577,  1.09677148,  1.03583353, -0.09195833, -1.13977509,\n",
       "        -0.96328345, -0.76301132, -0.59702704, -0.47201999, -0.36837041,\n",
       "        -0.27332532, -0.17338663, -0.06894272, -0.02464466, -0.0069849 ,\n",
       "        -0.00477028, -0.00418943, -0.01864826, -0.05327212, -0.14042052,\n",
       "        -0.27718062, -0.41220901, -0.5540034 , -0.69200544, -0.79258314,\n",
       "        -0.84194084, -0.86976698, -0.52061435,  1.0549543 ,  1.04169396,\n",
       "         1.03259284, -0.36643359, -1.07835249, -0.92258453, -0.75248127,\n",
       "        -0.60978718, -0.48675394, -0.38089678, -0.27829889, -0.17549155,\n",
       "        -0.07702614, -0.0296263 , -0.00911024, -0.00408252, -0.00670728,\n",
       "        -0.02160143, -0.06070769, -0.15702241, -0.29716317, -0.4223068 ,\n",
       "        -0.54572671, -0.65910029, -0.74125055, -0.78837956, -0.83396729,\n",
       "         0.53512425,  1.20558778,  1.1232475 ,  0.34662233, -1.06162577,\n",
       "        -0.99988631, -0.87891758, -0.74358354, -0.61562164, -0.49307976,\n",
       "        -0.37987428, -0.27351765, -0.17353912, -0.08405015, -0.03416244,\n",
       "        -0.00893965,  0.        , -0.00893209, -0.02539776, -0.07390018,\n",
       "        -0.17786005, -0.31338343, -0.42901306, -0.53508894, -0.62078199,\n",
       "        -0.68268924, -0.72347014, -0.37679008,  1.24712507,  1.35314917,\n",
       "         1.2543661 , -0.46915353, -1.01067269, -0.9515093 , -0.85546569,\n",
       "        -0.74032107, -0.61326579, -0.48515629, -0.36804198, -0.26078182,\n",
       "        -0.16833376, -0.08854264, -0.03593623, -0.01071081, -0.00590597,\n",
       "        -0.00635211, -0.03332021, -0.09130486, -0.19910803, -0.32796741,\n",
       "        -0.43899543, -0.53445409, -0.6059479 , -0.65940509, -0.69784837,\n",
       "         0.48085591,  1.58699823,  1.43742181,  1.00239916, -0.91210601,\n",
       "        -1.01044884, -0.95294508, -0.85872464, -0.73231139, -0.5949106 ,\n",
       "        -0.46342915, -0.34877114, -0.24588475, -0.15820094, -0.08543796,\n",
       "        -0.03155796, -0.00976041, -0.00408252, -0.01128166, -0.0397571 ,\n",
       "        -0.10385233, -0.21198097, -0.33747789, -0.45170193, -0.55213161,\n",
       "        -0.63188648, -0.69322439, -0.09367535,  1.51437602,  1.50183703,\n",
       "         1.37423329, -0.60508802, -1.06082828, -1.04812373, -0.96705521,\n",
       "        -0.84650228, -0.70122275, -0.55538565, -0.42707461, -0.31681048,\n",
       "        -0.2206858 , -0.14105726, -0.07817104, -0.02918258, -0.00802579,\n",
       "         0.        , -0.0103421 , -0.04327362, -0.10916701, -0.20903257,\n",
       "        -0.33022464, -0.45487527, -0.56919681, -0.6729436 ,  1.0293883 ,\n",
       "         1.34383843,  1.39573216,  1.30633998,  0.89297653, -1.12090482,\n",
       "        -1.12894344, -1.06273937, -0.9393329 , -0.78734757, -0.62699096,\n",
       "        -0.48806277, -0.36895114, -0.26929223, -0.18721262, -0.12162743,\n",
       "        -0.06649382, -0.026033  , -0.00577332, -0.00408252, -0.0100095 ,\n",
       "        -0.04049873, -0.09998471, -0.18820172, -0.29963131, -0.42724847,\n",
       "        -0.55525136, -0.6817774 ,  1.52273332,  1.35882073,  1.25198139,\n",
       "         1.16494627, -0.72827116, -1.19218568, -1.12530505, -0.99470796,\n",
       "        -0.83223274, -0.66712599, -0.52269449, -0.39906543, -0.29670064,\n",
       "        -0.21262622, -0.14869396, -0.09689573, -0.05093109, -0.02021443,\n",
       "        -0.00408252, -0.00408252, -0.00600491, -0.03370635, -0.07897245,\n",
       "        -0.14774138, -0.24325025, -0.3603463 , -0.48644317, -0.62240998,\n",
       "         0.95277277,  1.37095839,  1.23077258,  0.7779097 , -0.99258685,\n",
       "        -1.07483985, -0.96307263, -0.81766817, -0.66465591, -0.52359508,\n",
       "        -0.40214203, -0.30306916, -0.22168084, -0.15936594, -0.1100607 ,\n",
       "        -0.07003976, -0.03713562, -0.01220141, -0.00408252,  0.        ,\n",
       "         0.        , -0.02273873, -0.0519054 , -0.09998802, -0.16843162,\n",
       "        -0.26031072, -0.36983708, -0.490098  , -0.35414435,  0.41823242,\n",
       "         1.39229082,  0.40975576, -0.89980608, -0.83974858, -0.73465553,\n",
       "        -0.61257571, -0.49207119, -0.37992817, -0.28881739, -0.21344094,\n",
       "        -0.15366778, -0.10912601, -0.07409876, -0.04331719, -0.01934379,\n",
       "        -0.01040248,  0.        ,  0.        ,  0.        , -0.0103527 ,\n",
       "        -0.0287501 , -0.05756837, -0.09531054, -0.15360976, -0.22342453,\n",
       "        -0.30357777, -0.38847997, -0.47019583, -0.53312357, -0.56650599,\n",
       "        -0.56278366, -0.5271647 , -0.4680574 , -0.39580505, -0.32478945,\n",
       "        -0.25570503, -0.19461171, -0.14457421, -0.10177354, -0.07142522,\n",
       "        -0.04777776, -0.02575244, -0.01137942, -0.00475287,  0.        ,\n",
       "         0.        ,  0.        , -0.0066643 , -0.01096421, -0.02760445,\n",
       "        -0.0515536 , -0.08677185, -0.12839203, -0.1757759 , -0.22305444,\n",
       "        -0.26664029, -0.29484432, -0.30750543, -0.30518012, -0.28923178,\n",
       "        -0.26323129, -0.23372359, -0.20102782, -0.16369105, -0.127666  ,\n",
       "        -0.09396514, -0.06568326, -0.04592653, -0.02871881, -0.01569304,\n",
       "        -0.00567531, -0.00408252,  0.        ,  0.        ,  0.        ,\n",
       "         0.        , -0.00408252, -0.01512139, -0.03136955, -0.05333023,\n",
       "        -0.07922827, -0.10837665, -0.13397907, -0.15751318, -0.17510551,\n",
       "        -0.1826269 , -0.18053534, -0.16987649, -0.15315731, -0.13543312,\n",
       "        -0.1164803 , -0.09395125, -0.07257689, -0.05236436, -0.036383  ,\n",
       "        -0.02150306, -0.01301928, -0.00449422, -0.00408252,  0.        ,\n",
       "         0.        ,  0.        ,  0.        ,  0.        ,  0.        ,\n",
       "        -0.00579016, -0.00905385, -0.01600544, -0.02211976, -0.026846  ,\n",
       "        -0.03184506, -0.04374841, -0.04728295, -0.0531388 , -0.05662282,\n",
       "        -0.06033836, -0.056295  , -0.05136654, -0.04263228, -0.03317103,\n",
       "        -0.02246288, -0.01606909, -0.0114322 , -0.00900729, -0.00577039,\n",
       "         0.        ,  0.        ,  0.        ,  0.        ]))"
      ]
     },
     "execution_count": 51,
     "metadata": {},
     "output_type": "execute_result"
    }
   ],
   "source": [
    "from sklearn.preprocessing import StandardScaler\n",
    "\n",
    "scaler = StandardScaler()\n",
    "X_train_scaled = scaler.fit_transform(X_train.astype(np.float64))\n",
    "\n",
    "X_train[0], X_train_scaled[0]"
   ]
  },
  {
   "cell_type": "code",
   "execution_count": 52,
   "metadata": {},
   "outputs": [
    {
     "data": {
      "text/plain": [
       "array([0.91011798, 0.90874544, 0.906636  ])"
      ]
     },
     "execution_count": 52,
     "metadata": {},
     "output_type": "execute_result"
    }
   ],
   "source": [
    "# Simply scaling the values like we did in Chapter 2 raises our accuracy to 90%\n",
    "cross_val_score(sgd_clf, X_train_scaled, y_train, cv=3, scoring='accuracy')"
   ]
  },
  {
   "cell_type": "markdown",
   "metadata": {},
   "source": [
    "# Error Analysis"
   ]
  },
  {
   "cell_type": "code",
   "execution_count": 53,
   "metadata": {},
   "outputs": [
    {
     "data": {
      "text/plain": [
       "(array([1., 6., 6., 1., 1.]), array([1., 6., 6., 1., 1.]))"
      ]
     },
     "execution_count": 53,
     "metadata": {},
     "output_type": "execute_result"
    }
   ],
   "source": [
    "y_train_pred = cross_val_predict(sgd_clf, X_train_scaled, y_train, cv=3)\n",
    "y_train[:5], y_train_pred[:5]"
   ]
  },
  {
   "cell_type": "code",
   "execution_count": 54,
   "metadata": {},
   "outputs": [
    {
     "data": {
      "text/plain": [
       "array([[5725,    3,   24,    9,   10,   49,   50,   10,   39,    4],\n",
       "       [   2, 6493,   43,   25,    7,   40,    5,   10,  109,    8],\n",
       "       [  51,   41, 5321,  104,   89,   26,   87,   60,  166,   13],\n",
       "       [  47,   46,  141, 5342,    1,  231,   40,   50,  141,   92],\n",
       "       [  19,   29,   41,   10, 5366,    9,   56,   37,   86,  189],\n",
       "       [  73,   45,   36,  193,   64, 4582,  111,   30,  193,   94],\n",
       "       [  29,   34,   44,    2,   42,   85, 5627,   10,   45,    0],\n",
       "       [  25,   24,   74,   32,   54,   12,    6, 5787,   15,  236],\n",
       "       [  52,  161,   73,  156,   10,  163,   61,   25, 5027,  123],\n",
       "       [  43,   35,   26,   92,  178,   28,    2,  223,   82, 5240]])"
      ]
     },
     "execution_count": 54,
     "metadata": {},
     "output_type": "execute_result"
    }
   ],
   "source": [
    "conf_mx = confusion_matrix(y_train, y_train_pred)\n",
    "conf_mx"
   ]
  },
  {
   "cell_type": "code",
   "execution_count": 55,
   "metadata": {},
   "outputs": [
    {
     "data": {
      "image/png": "[encoded data removed]",
      "text/plain": [
       "<Figure size 288x288 with 1 Axes>"
      ]
     },
     "metadata": {
      "needs_background": "light"
     },
     "output_type": "display_data"
    }
   ],
   "source": [
    "# We can look at the confusion matrix with matplotlib\n",
    "# This plot looks good because most images are on the main diagonal axis\n",
    "# meaning they were classified correctly\n",
    "# Notice how 5 is slightly darker. This could be because there are less 5s in the dataset\n",
    "# or the classifier does not perform as well on 5s\n",
    "plt.matshow(conf_mx, cmap=plt.cm.gray)\n",
    "plt.show()"
   ]
  },
  {
   "cell_type": "code",
   "execution_count": 56,
   "metadata": {},
   "outputs": [
    {
     "data": {
      "text/plain": [
       "array([[5923],\n",
       "       [6742],\n",
       "       [5958],\n",
       "       [6131],\n",
       "       [5842],\n",
       "       [5421],\n",
       "       [5918],\n",
       "       [6265],\n",
       "       [5851],\n",
       "       [5949]])"
      ]
     },
     "execution_count": 56,
     "metadata": {},
     "output_type": "execute_result"
    }
   ],
   "source": [
    "# Let's focus on the error rate\n",
    "# To get the error rate, divide each value in the confusion matrix\n",
    "# by the number of images in the corresponding class (value count)\n",
    "row_sums = conf_mx.sum(axis=1, keepdims=True)\n",
    "row_sums"
   ]
  },
  {
   "cell_type": "code",
   "execution_count": 57,
   "metadata": {},
   "outputs": [
    {
     "data": {
      "text/plain": [
       "1.0    6742\n",
       "8.0    5851\n",
       "2.0    5958\n",
       "0.0    5923\n",
       "4.0    5842\n",
       "9.0    5949\n",
       "5.0    5421\n",
       "6.0    5918\n",
       "3.0    6131\n",
       "7.0    6265\n",
       "dtype: int64"
      ]
     },
     "execution_count": 57,
     "metadata": {},
     "output_type": "execute_result"
    }
   ],
   "source": [
    "import pandas as pd\n",
    "pd.Series(y_train).value_counts(sort=False)"
   ]
  },
  {
   "cell_type": "code",
   "execution_count": 58,
   "metadata": {},
   "outputs": [
    {
     "data": {
      "text/plain": [
       "array([[9.66570994e-01, 5.06500084e-04, 4.05200068e-03, 1.51950025e-03,\n",
       "        1.68833361e-03, 8.27283471e-03, 8.44166807e-03, 1.68833361e-03,\n",
       "        6.58450110e-03, 6.75333446e-04],\n",
       "       [2.96647879e-04, 9.63067339e-01, 6.37792940e-03, 3.70809849e-03,\n",
       "        1.03826758e-03, 5.93295758e-03, 7.41619697e-04, 1.48323939e-03,\n",
       "        1.61673094e-02, 1.18659152e-03],\n",
       "       [8.55991944e-03, 6.88150386e-03, 8.93084928e-01, 1.74555220e-02,\n",
       "        1.49378986e-02, 4.36388050e-03, 1.46022155e-02, 1.00704935e-02,\n",
       "        2.78616986e-02, 2.18194025e-03],\n",
       "       [7.66595988e-03, 7.50285435e-03, 2.29978796e-02, 8.71309737e-01,\n",
       "        1.63105529e-04, 3.76773773e-02, 6.52422117e-03, 8.15527646e-03,\n",
       "        2.29978796e-02, 1.50057087e-02],\n",
       "       [3.25231085e-03, 4.96405341e-03, 7.01814447e-03, 1.71174255e-03,\n",
       "        9.18521054e-01, 1.54056830e-03, 9.58575830e-03, 6.33344745e-03,\n",
       "        1.47209860e-02, 3.23519343e-02],\n",
       "       [1.34661502e-02, 8.30105147e-03, 6.64084117e-03, 3.56022874e-02,\n",
       "        1.18059399e-02, 8.45231507e-01, 2.04759270e-02, 5.53403431e-03,\n",
       "        3.56022874e-02, 1.73399742e-02],\n",
       "       [4.90030416e-03, 5.74518418e-03, 7.43494424e-03, 3.37952011e-04,\n",
       "        7.09699223e-03, 1.43629605e-02, 9.50827982e-01, 1.68976005e-03,\n",
       "        7.60392024e-03, 0.00000000e+00],\n",
       "       [3.99042298e-03, 3.83080607e-03, 1.18116520e-02, 5.10774142e-03,\n",
       "        8.61931365e-03, 1.91540303e-03, 9.57701516e-04, 9.23703113e-01,\n",
       "        2.39425379e-03, 3.76695930e-02],\n",
       "       [8.88736968e-03, 2.75166638e-02, 1.24764997e-02, 2.66621090e-02,\n",
       "        1.70910955e-03, 2.78584857e-02, 1.04255683e-02, 4.27277388e-03,\n",
       "        8.59169373e-01, 2.10220475e-02],\n",
       "       [7.22810556e-03, 5.88334174e-03, 4.37048243e-03, 1.54647840e-02,\n",
       "        2.99209951e-02, 4.70667339e-03, 3.36190956e-04, 3.74852916e-02,\n",
       "        1.37838292e-02, 8.80820306e-01]])"
      ]
     },
     "execution_count": 58,
     "metadata": {},
     "output_type": "execute_result"
    }
   ],
   "source": [
    "norm_conf_mx = conf_mx / row_sums\n",
    "norm_conf_mx"
   ]
  },
  {
   "cell_type": "code",
   "execution_count": 59,
   "metadata": {},
   "outputs": [
    {
     "data": {
      "text/plain": [
       "array([[0.        , 0.0005065 , 0.004052  , 0.0015195 , 0.00168833,\n",
       "        0.00827283, 0.00844167, 0.00168833, 0.0065845 , 0.00067533],\n",
       "       [0.00029665, 0.        , 0.00637793, 0.0037081 , 0.00103827,\n",
       "        0.00593296, 0.00074162, 0.00148324, 0.01616731, 0.00118659],\n",
       "       [0.00855992, 0.0068815 , 0.        , 0.01745552, 0.0149379 ,\n",
       "        0.00436388, 0.01460222, 0.01007049, 0.0278617 , 0.00218194],\n",
       "       [0.00766596, 0.00750285, 0.02299788, 0.        , 0.00016311,\n",
       "        0.03767738, 0.00652422, 0.00815528, 0.02299788, 0.01500571],\n",
       "       [0.00325231, 0.00496405, 0.00701814, 0.00171174, 0.        ,\n",
       "        0.00154057, 0.00958576, 0.00633345, 0.01472099, 0.03235193],\n",
       "       [0.01346615, 0.00830105, 0.00664084, 0.03560229, 0.01180594,\n",
       "        0.        , 0.02047593, 0.00553403, 0.03560229, 0.01733997],\n",
       "       [0.0049003 , 0.00574518, 0.00743494, 0.00033795, 0.00709699,\n",
       "        0.01436296, 0.        , 0.00168976, 0.00760392, 0.        ],\n",
       "       [0.00399042, 0.00383081, 0.01181165, 0.00510774, 0.00861931,\n",
       "        0.0019154 , 0.0009577 , 0.        , 0.00239425, 0.03766959],\n",
       "       [0.00888737, 0.02751666, 0.0124765 , 0.02666211, 0.00170911,\n",
       "        0.02785849, 0.01042557, 0.00427277, 0.        , 0.02102205],\n",
       "       [0.00722811, 0.00588334, 0.00437048, 0.01546478, 0.029921  ,\n",
       "        0.00470667, 0.00033619, 0.03748529, 0.01378383, 0.        ]])"
      ]
     },
     "execution_count": 59,
     "metadata": {},
     "output_type": "execute_result"
    }
   ],
   "source": [
    "# https://docs.scipy.org/doc/numpy-1.15.0/reference/generated/numpy.fill_diagonal.html\n",
    "# >>> a = np.zeros((3, 3, 3), int)\n",
    "# >>> a\n",
    "# array([[[0, 0, 0],\n",
    "#         [0, 0, 0],\n",
    "#         [0, 0, 0]],\n",
    "\n",
    "#        [[0, 0, 0],\n",
    "#         [0, 0, 0],\n",
    "#         [0, 0, 0]],\n",
    "\n",
    "#        [[0, 0, 0],\n",
    "#         [0, 0, 0],\n",
    "#         [0, 0, 0]]])\n",
    "# >>> np.fill_diagonal(a, 4)\n",
    "# >>> a\n",
    "# array([[[4, 0, 0],\n",
    "#         [0, 0, 0],\n",
    "#         [0, 0, 0]],\n",
    "\n",
    "#        [[0, 0, 0],\n",
    "#         [0, 4, 0],\n",
    "#         [0, 0, 0]],\n",
    "\n",
    "#        [[0, 0, 0],\n",
    "#         [0, 0, 0],\n",
    "#         [0, 0, 4]]])\n",
    "np.fill_diagonal(norm_conf_mx, 0)\n",
    "norm_conf_mx"
   ]
  },
  {
   "cell_type": "code",
   "execution_count": 60,
   "metadata": {},
   "outputs": [
    {
     "data": {
      "image/png": "[encoded data removed]",
      "text/plain": [
       "<Figure size 288x288 with 1 Axes>"
      ]
     },
     "metadata": {
      "needs_background": "light"
     },
     "output_type": "display_data"
    }
   ],
   "source": [
    "# Rows represent actual classes\n",
    "# Columns represent predicted classes\n",
    "# \n",
    "# Look at row 5, column 8. It is white.\n",
    "# This means there are quite a few 5s that are classified as 8s\n",
    "# The opposite is not always true however (row 8 col 5 is not as bright)\n",
    "#\n",
    "# 3s and 5s looks like they're confused a lot too\n",
    "#\n",
    "plt.matshow(norm_conf_mx, cmap=plt.cm.gray)\n",
    "plt.show()"
   ]
  },
  {
   "cell_type": "code",
   "execution_count": 61,
   "metadata": {},
   "outputs": [],
   "source": [
    "# Taken directly from\n",
    "# https://github.com/ageron/handson-ml/blob/master/03_classification.ipynb\n",
    "def plot_digits(instances, images_per_row=10, **options):\n",
    "    size = 28\n",
    "    images_per_row = min(len(instances), images_per_row)\n",
    "    images = [instance.reshape(size,size) for instance in instances]\n",
    "    n_rows = (len(instances) - 1) // images_per_row + 1\n",
    "    row_images = []\n",
    "    n_empty = n_rows * images_per_row - len(instances)\n",
    "    images.append(np.zeros((size, size * n_empty)))\n",
    "    for row in range(n_rows):\n",
    "        rimages = images[row * images_per_row : (row + 1) * images_per_row]\n",
    "        row_images.append(np.concatenate(rimages, axis=1))\n",
    "    image = np.concatenate(row_images, axis=0)\n",
    "    plt.imshow(image, cmap = matplotlib.cm.binary, **options)\n",
    "    plt.axis(\"off\")"
   ]
  },
  {
   "cell_type": "code",
   "execution_count": 62,
   "metadata": {},
   "outputs": [
    {
     "ename": "NameError",
     "evalue": "name 'y_train_pred' is not defined",
     "output_type": "error",
     "traceback": [
      "\u001b[0;31m---------------------------------------------------------------------------\u001b[0m",
      "\u001b[0;31mNameError\u001b[0m                                 Traceback (most recent call last)",
      "\u001b[0;32m<ipython-input-62-a5e791f7b21a>\u001b[0m in \u001b[0;36m<module>\u001b[0;34m()\u001b[0m\n\u001b[1;32m      6\u001b[0m \u001b[0;34m\u001b[0m\u001b[0m\n\u001b[1;32m      7\u001b[0m \u001b[0mcl_a\u001b[0m\u001b[0;34m,\u001b[0m \u001b[0mcl_b\u001b[0m \u001b[0;34m=\u001b[0m \u001b[0;36m3\u001b[0m\u001b[0;34m,\u001b[0m \u001b[0;36m5\u001b[0m\u001b[0;34m\u001b[0m\u001b[0m\n\u001b[0;32m----> 8\u001b[0;31m \u001b[0mX_aa\u001b[0m \u001b[0;34m=\u001b[0m \u001b[0mX_train\u001b[0m\u001b[0;34m[\u001b[0m\u001b[0;34m(\u001b[0m\u001b[0my_train\u001b[0m \u001b[0;34m==\u001b[0m \u001b[0mcl_a\u001b[0m\u001b[0;34m)\u001b[0m \u001b[0;34m&\u001b[0m \u001b[0;34m(\u001b[0m\u001b[0my_train_pred\u001b[0m \u001b[0;34m==\u001b[0m \u001b[0mcl_a\u001b[0m\u001b[0;34m)\u001b[0m\u001b[0;34m]\u001b[0m\u001b[0;34m\u001b[0m\u001b[0m\n\u001b[0m\u001b[1;32m      9\u001b[0m \u001b[0mX_ab\u001b[0m \u001b[0;34m=\u001b[0m \u001b[0mX_train\u001b[0m\u001b[0;34m[\u001b[0m\u001b[0;34m(\u001b[0m\u001b[0my_train\u001b[0m \u001b[0;34m==\u001b[0m \u001b[0mcl_a\u001b[0m\u001b[0;34m)\u001b[0m \u001b[0;34m&\u001b[0m \u001b[0;34m(\u001b[0m\u001b[0my_train_pred\u001b[0m \u001b[0;34m==\u001b[0m \u001b[0mcl_b\u001b[0m\u001b[0;34m)\u001b[0m\u001b[0;34m]\u001b[0m\u001b[0;34m\u001b[0m\u001b[0m\n\u001b[1;32m     10\u001b[0m \u001b[0mX_ba\u001b[0m \u001b[0;34m=\u001b[0m \u001b[0mX_train\u001b[0m\u001b[0;34m[\u001b[0m\u001b[0;34m(\u001b[0m\u001b[0my_train\u001b[0m \u001b[0;34m==\u001b[0m \u001b[0mcl_b\u001b[0m\u001b[0;34m)\u001b[0m \u001b[0;34m&\u001b[0m \u001b[0;34m(\u001b[0m\u001b[0my_train_pred\u001b[0m \u001b[0;34m==\u001b[0m \u001b[0mcl_a\u001b[0m\u001b[0;34m)\u001b[0m\u001b[0;34m]\u001b[0m\u001b[0;34m\u001b[0m\u001b[0m\n",
      "\u001b[0;31mNameError\u001b[0m: name 'y_train_pred' is not defined"
     ]
    }
   ],
   "source": [
    "# Let's analyze individual errors\n",
    "# TL(221): actual(3) pred(3)\n",
    "# TR(222): actual(3) pred(5)\n",
    "# BL(223): actual(5) pred(3)\n",
    "# BR(224): actual(5) pred(5)\n",
    "\n",
    "cl_a, cl_b = 3, 5\n",
    "X_aa = X_train[(y_train == cl_a) & (y_train_pred == cl_a)]\n",
    "X_ab = X_train[(y_train == cl_a) & (y_train_pred == cl_b)]\n",
    "X_ba = X_train[(y_train == cl_b) & (y_train_pred == cl_a)]\n",
    "X_bb = X_train[(y_train == cl_b) & (y_train_pred == cl_b)]\n",
    "\n",
    "plt.figure(figsize=(8, 8))\n",
    "plt.subplot(221); plot_digits(X_aa[:25], images_per_row=5)\n",
    "plt.subplot(222); plot_digits(X_ab[:25], images_per_row=5)\n",
    "plt.subplot(223); plot_digits(X_ba[:25], images_per_row=5)\n",
    "plt.subplot(224); plot_digits(X_bb[:25], images_per_row=5)\n",
    "plt.show()"
   ]
  },
  {
   "cell_type": "markdown",
   "metadata": {},
   "source": [
    "# Multilabel Classification\n",
    "\n",
    "Outputting multiple binary labels (class X yes/no) for each instance is called \"Multilabel Classification.\"\n",
    "The example used in the book is identifying multiple people in a single photo.\n",
    "Instead of labeling 1 person for each photo, we want our classifier to output multiple\n",
    "people for each photo.\n",
    "\n",
    "Ex. if we trained a classifier to recognize Alice, Bob and Charlie, and\n",
    "only Alice and Charlie are in the instance photo, the output should be `[1, 0, 1]`"
   ]
  },
  {
   "cell_type": "code",
   "execution_count": 63,
   "metadata": {},
   "outputs": [
    {
     "data": {
      "text/plain": [
       "array([[False,  True],\n",
       "       [False, False],\n",
       "       [False, False],\n",
       "       ...,\n",
       "       [False, False],\n",
       "       [False, False],\n",
       "       [ True,  True]])"
      ]
     },
     "execution_count": 63,
     "metadata": {},
     "output_type": "execute_result"
    }
   ],
   "source": [
    "from sklearn.neighbors import KNeighborsClassifier\n",
    "\n",
    "y_train_large = (y_train >= 7)\n",
    "y_train_odd = (y_train % 2 == 1)\n",
    "\n",
    "# Create 2 target labels for each image\n",
    "# 1. whether digit is large (7, 8 or 9)\n",
    "# 2. whether digit is odd\n",
    "y_multilabel = np.c_[y_train_large, y_train_odd]\n",
    "y_multilabel"
   ]
  },
  {
   "cell_type": "code",
   "execution_count": 64,
   "metadata": {},
   "outputs": [
    {
     "data": {
      "text/plain": [
       "KNeighborsClassifier(algorithm='auto', leaf_size=30, metric='minkowski',\n",
       "           metric_params=None, n_jobs=None, n_neighbors=5, p=2,\n",
       "           weights='uniform')"
      ]
     },
     "execution_count": 64,
     "metadata": {},
     "output_type": "execute_result"
    }
   ],
   "source": [
    "# Not all classifiers support multilabel classification,\n",
    "# but KNeighborsClassifier does\n",
    "knn_clf = KNeighborsClassifier()\n",
    "knn_clf.fit(X_train, y_multilabel)"
   ]
  },
  {
   "cell_type": "code",
   "execution_count": 65,
   "metadata": {},
   "outputs": [
    {
     "data": {
      "text/plain": [
       "array([[False,  True]])"
      ]
     },
     "execution_count": 65,
     "metadata": {},
     "output_type": "execute_result"
    }
   ],
   "source": [
    "# Now feed the classifier an instance, and see how it outputs 2 binary labels!\n",
    "# 1. 5 is not large (correct!)\n",
    "# 2. 5 is an odd number (correct!)\n",
    "knn_clf.predict([sample_5])"
   ]
  },
  {
   "cell_type": "code",
   "execution_count": 66,
   "metadata": {},
   "outputs": [],
   "source": [
    "# One approach to check how well your multilabel classifier performs\n",
    "# is to take the average of all the inidividual binary label F1 scores.\n",
    "# y_train_knn_pred = cross_val_predict(knn_clf, X_train, y_train, cv=3, verbose=True, n_jobs=4)\n",
    "\n",
    "# average='macro' assumes all labels are equally important\n",
    "# macro_f1_score = f1_score(y_pred=y_train_knn_pred, y_true=y_train, average='macro')\n",
    "\n",
    "# average='weighted' gives each label a weight equal to its \"support\" \n",
    "# (ie. the number of instance with that target label)\n",
    "# weighted_f1_score = f1_score(y_pred=y_train_knn_pred, y_true=y_train, average='weighted')\n",
    "\n",
    "# See sklearn docs for more averaging options and multilabel classifier metrics.."
   ]
  },
  {
   "cell_type": "markdown",
   "metadata": {},
   "source": [
    "# Multioutput Classification\n",
    "\n",
    "Each label can be multiclass. An image is a good example of how this would be used. Each pixel is a label, and each label can be 0-255. Below is an example of removing noise from an image. The training data is the noise-ified image, and the labels are the original (clean) image."
   ]
  },
  {
   "cell_type": "code",
   "execution_count": 67,
   "metadata": {},
   "outputs": [
    {
     "data": {
      "image/png": "[encoded data removed]",
      "text/plain": [
       "<Figure size 432x288 with 2 Axes>"
      ]
     },
     "metadata": {
      "needs_background": "light"
     },
     "output_type": "display_data"
    }
   ],
   "source": [
    "noise_X_train = np.random.randint(0, 100, (len(X_train), 784))\n",
    "noise_X_test = np.random.randint(0, 100, (len(X_test), 784))\n",
    "\n",
    "X_train_mod = X_train + noise_X_train\n",
    "X_test_mod = X_test + noise_X_test\n",
    "\n",
    "y_train_mod = X_train\n",
    "y_test_mod = X_test\n",
    "\n",
    "some_index = 5500\n",
    "\n",
    "plt.subplot(121)\n",
    "plt.imshow(X_test_mod[some_index].reshape((28, 28)), cmap=matplotlib.cm.binary)\n",
    "plt.axis('off')\n",
    "\n",
    "plt.subplot(122)\n",
    "plt.imshow(y_test_mod[some_index].reshape((28, 28)), cmap=matplotlib.cm.binary)\n",
    "plt.axis('off')\n",
    "\n",
    "plt.show()"
   ]
  },
  {
   "cell_type": "code",
   "execution_count": 68,
   "metadata": {},
   "outputs": [
    {
     "data": {
      "image/png": "[encoded data removed]",
      "text/plain": [
       "<Figure size 432x288 with 1 Axes>"
      ]
     },
     "metadata": {
      "needs_background": "light"
     },
     "output_type": "display_data"
    }
   ],
   "source": [
    "knn_clf.fit(X_train_mod, y_train_mod)\n",
    "\n",
    "# outputting an image with (28 * 28) labels (each assigned to a class between 0-255)\n",
    "clean_digit = knn_clf.predict([X_test_mod[some_index]])\n",
    "\n",
    "plt.imshow(clean_digit.reshape((28, 28)), cmap=matplotlib.cm.binary)\n",
    "plt.axis('off')\n",
    "plt.show()"
   ]
  },
  {
   "cell_type": "markdown",
   "metadata": {},
   "source": [
    "# Exercises\n",
    "\n",
    "1. Try to build a classifier for the MNIST dataset that achieves over 97% accuracy on the test set. Hint: the KNeighborsClassifier works quite well for this task; you just need to find good hyperparameter values (try a grid search on the weights and n_neighbors hyperparameters)."
   ]
  },
  {
   "cell_type": "code",
   "execution_count": 65,
   "metadata": {},
   "outputs": [],
   "source": [
    "# Model prepared in tasks/chapter_3_exercise_1.py (training takes up to a full day) \n",
    "#\n",
    "# grid_search = GridSearchCV(knn_clf, param_grid, n_jobs=-1, cv=5, verbose=5)\n",
    "# grid_search.fit(X_train, y_train)\n",
    "from sklearn.externals import joblib\n",
    "\n",
    "# joblib file compressed for smaller repo size\n",
    "from zipfile import ZipFile\n",
    "import os\n",
    "\n",
    "if not os.path.isfile('tasks/chapter_3_exercise_1.joblib'):\n",
    "    with ZipFile('tasks/chapter_3_exercise_1.joblib.zip', 'r') as zf:\n",
    "        zf.extractall(path='tasks')\n",
    "\n",
    "grid_search = joblib.load(open('tasks/chapter_3_exercise_1.joblib', 'rb'))"
   ]
  },
  {
   "cell_type": "code",
   "execution_count": 66,
   "metadata": {},
   "outputs": [
    {
     "data": {
      "text/plain": [
       "GridSearchCV(cv=5, error_score='raise-deprecating',\n",
       "       estimator=KNeighborsClassifier(algorithm='auto', leaf_size=30, metric='minkowski',\n",
       "           metric_params=None, n_jobs=None, n_neighbors=5, p=2,\n",
       "           weights='uniform'),\n",
       "       fit_params=None, iid='warn', n_jobs=-1,\n",
       "       param_grid=[{'weights': ['uniform', 'distance'], 'n_neighbors': [2, 3, 4, 5]}],\n",
       "       pre_dispatch='2*n_jobs', refit=True, return_train_score='warn',\n",
       "       scoring=None, verbose=5)"
      ]
     },
     "execution_count": 66,
     "metadata": {},
     "output_type": "execute_result"
    }
   ],
   "source": [
    "grid_search"
   ]
  },
  {
   "cell_type": "code",
   "execution_count": 67,
   "metadata": {},
   "outputs": [
    {
     "data": {
      "text/plain": [
       "0.9733833333333334"
      ]
     },
     "execution_count": 67,
     "metadata": {},
     "output_type": "execute_result"
    }
   ],
   "source": [
    "grid_search.best_score_"
   ]
  },
  {
   "cell_type": "code",
   "execution_count": 68,
   "metadata": {},
   "outputs": [
    {
     "data": {
      "text/plain": [
       "{'n_neighbors': 4, 'weights': 'distance'}"
      ]
     },
     "execution_count": 68,
     "metadata": {},
     "output_type": "execute_result"
    }
   ],
   "source": [
    "grid_search.best_params_"
   ]
  },
  {
   "cell_type": "markdown",
   "metadata": {},
   "source": [
    "2. Write a function that can shift an MNIST image in any direction (left, right, up, or down) by one pixel. Then, for each image in the training set, create four shifted copies (one per direction) and add them to the training set. Finally, train your best model on this expanded training set and measure its accuracy on the test set. You should observe that your model performs even better now! This technique of artificially growing the training set is called data augmentation or training set expansion."
   ]
  },
  {
   "cell_type": "code",
   "execution_count": 69,
   "metadata": {},
   "outputs": [
    {
     "data": {
      "text/plain": [
       "(-0.5, 27.5, 27.5, -0.5)"
      ]
     },
     "execution_count": 69,
     "metadata": {},
     "output_type": "execute_result"
    },
    {
     "data": {
      "image/png": "[encoded data removed]",
      "text/plain": [
       "<Figure size 576x576 with 5 Axes>"
      ]
     },
     "metadata": {
      "needs_background": "light"
     },
     "output_type": "display_data"
    }
   ],
   "source": [
    "from utils import functions\n",
    "\n",
    "import matplotlib.pyplot as plt\n",
    "\n",
    "sample_ix = 6978 #  random.randint(0, len(X_train))\n",
    "\n",
    "original_img = X_train[sample_ix].reshape((28, 28))\n",
    "up_img = functions.shift_mnist_image(original_img, 'up', 10)\n",
    "left_img = functions.shift_mnist_image(original_img, 'left', 10)\n",
    "right_img = functions.shift_mnist_image(original_img, 'right', 10)\n",
    "down_img = functions.shift_mnist_image(original_img, 'down', 10)\n",
    "\n",
    "plt.figure(figsize=(8, 8))\n",
    "\n",
    "plt.subplot(231)\n",
    "plt.imshow(original_img, cmap='binary')\n",
    "plt.title('original')\n",
    "plt.axis('off')\n",
    "\n",
    "plt.subplot(232)\n",
    "plt.imshow(up_img, cmap='binary')\n",
    "plt.title('shifted up 10px')\n",
    "plt.axis('off')\n",
    "\n",
    "plt.subplot(233)\n",
    "plt.imshow(left_img, cmap='binary')\n",
    "plt.title('shifted left 10px')\n",
    "plt.axis('off')\n",
    "\n",
    "plt.subplot(234)\n",
    "plt.imshow(right_img, cmap='binary')\n",
    "plt.title('shifted right 10px')\n",
    "plt.axis('off')\n",
    "\n",
    "plt.subplot(235)\n",
    "plt.imshow(down_img, cmap='binary')\n",
    "plt.title('shifted down 10px')\n",
    "plt.axis('off')"
   ]
  },
  {
   "cell_type": "code",
   "execution_count": 64,
   "metadata": {},
   "outputs": [],
   "source": [
    "X_train_expanded = []\n",
    "y_train_expanded = []\n",
    "\n",
    "for i in range(len(X_train)):\n",
    "    train_img = X_train[i]\n",
    "    train_lbl = y_train[i]\n",
    "\n",
    "    X_train_expanded.append(train_img)\n",
    "    y_train_expanded.append(train_lbl)\n",
    "    \n",
    "    up    = functions.shift_mnist_image(train_img.reshape((28, 28)), 'up').reshape(-1)\n",
    "    right = functions.shift_mnist_image(train_img.reshape((28, 28)), 'right').reshape(-1)\n",
    "    down  = functions.shift_mnist_image(train_img.reshape((28, 28)), 'down').reshape(-1)\n",
    "    left  = functions.shift_mnist_image(train_img.reshape((28, 28)), 'left').reshape(-1)\n",
    "    \n",
    "    X_train_expanded.append(up);    y_train_expanded.append(train_lbl);\n",
    "    X_train_expanded.append(right); y_train_expanded.append(train_lbl);\n",
    "    X_train_expanded.append(down);  y_train_expanded.append(train_lbl);\n",
    "    X_train_expanded.append(left);  y_train_expanded.append(train_lbl);"
   ]
  },
  {
   "cell_type": "code",
   "execution_count": null,
   "metadata": {},
   "outputs": [],
   "source": [
    "from sklearn.neighbors import KNeighborsClassifier\n",
    "\n",
    "knn_clf = KNeighborsClassifier(**grid_search.best_params_)\n",
    "knn_clf.fit(X=X_train_expanded, y=y_train_expanded)"
   ]
  }
 ],
 "metadata": {
  "kernelspec": {
   "display_name": "Python 3",
   "language": "python",
   "name": "python3"
  },
  "language_info": {
   "codemirror_mode": {
    "name": "ipython",
    "version": 3
   },
   "file_extension": ".py",
   "mimetype": "text/x-python",
   "name": "python",
   "nbconvert_exporter": "python",
   "pygments_lexer": "ipython3",
   "version": "3.7.0"
  }
 },
 "nbformat": 4,
 "nbformat_minor": 2
}
